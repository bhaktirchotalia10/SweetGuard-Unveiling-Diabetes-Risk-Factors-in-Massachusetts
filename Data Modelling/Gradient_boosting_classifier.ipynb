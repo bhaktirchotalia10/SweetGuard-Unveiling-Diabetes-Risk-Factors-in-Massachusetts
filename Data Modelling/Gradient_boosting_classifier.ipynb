{
 "cells": [
  {
   "cell_type": "code",
   "execution_count": 3,
   "metadata": {},
   "outputs": [],
   "source": [
    "import pandas as pd\n",
    "from sklearn.model_selection import train_test_split\n",
    "from sklearn.ensemble import HistGradientBoostingClassifier, HistGradientBoostingRegressor\n",
    "from sklearn.metrics import accuracy_score"
   ]
  },
  {
   "cell_type": "code",
   "execution_count": 4,
   "metadata": {},
   "outputs": [],
   "source": [
    "data = pd.read_csv('Model1.csv')  # Load your preprocessed dataset\n",
    "\n",
    "X = data.drop(['DIABETE4', 'SEQNO'], axis=1)  # Features (excluding 'DIABETE4' and 'SEQNO')\n",
    "y = data['DIABETE4']  # Target variable\n",
    "\n",
    "# Split the dataset into training and testing sets\n",
    "X_train, X_test, y_train, y_test = train_test_split(X, y, test_size=0.2, random_state=42)"
   ]
  },
  {
   "cell_type": "code",
   "execution_count": 5,
   "metadata": {},
   "outputs": [
    {
     "data": {
      "text/html": [
       "<style>#sk-container-id-1 {color: black;}#sk-container-id-1 pre{padding: 0;}#sk-container-id-1 div.sk-toggleable {background-color: white;}#sk-container-id-1 label.sk-toggleable__label {cursor: pointer;display: block;width: 100%;margin-bottom: 0;padding: 0.3em;box-sizing: border-box;text-align: center;}#sk-container-id-1 label.sk-toggleable__label-arrow:before {content: \"▸\";float: left;margin-right: 0.25em;color: #696969;}#sk-container-id-1 label.sk-toggleable__label-arrow:hover:before {color: black;}#sk-container-id-1 div.sk-estimator:hover label.sk-toggleable__label-arrow:before {color: black;}#sk-container-id-1 div.sk-toggleable__content {max-height: 0;max-width: 0;overflow: hidden;text-align: left;background-color: #f0f8ff;}#sk-container-id-1 div.sk-toggleable__content pre {margin: 0.2em;color: black;border-radius: 0.25em;background-color: #f0f8ff;}#sk-container-id-1 input.sk-toggleable__control:checked~div.sk-toggleable__content {max-height: 200px;max-width: 100%;overflow: auto;}#sk-container-id-1 input.sk-toggleable__control:checked~label.sk-toggleable__label-arrow:before {content: \"▾\";}#sk-container-id-1 div.sk-estimator input.sk-toggleable__control:checked~label.sk-toggleable__label {background-color: #d4ebff;}#sk-container-id-1 div.sk-label input.sk-toggleable__control:checked~label.sk-toggleable__label {background-color: #d4ebff;}#sk-container-id-1 input.sk-hidden--visually {border: 0;clip: rect(1px 1px 1px 1px);clip: rect(1px, 1px, 1px, 1px);height: 1px;margin: -1px;overflow: hidden;padding: 0;position: absolute;width: 1px;}#sk-container-id-1 div.sk-estimator {font-family: monospace;background-color: #f0f8ff;border: 1px dotted black;border-radius: 0.25em;box-sizing: border-box;margin-bottom: 0.5em;}#sk-container-id-1 div.sk-estimator:hover {background-color: #d4ebff;}#sk-container-id-1 div.sk-parallel-item::after {content: \"\";width: 100%;border-bottom: 1px solid gray;flex-grow: 1;}#sk-container-id-1 div.sk-label:hover label.sk-toggleable__label {background-color: #d4ebff;}#sk-container-id-1 div.sk-serial::before {content: \"\";position: absolute;border-left: 1px solid gray;box-sizing: border-box;top: 0;bottom: 0;left: 50%;z-index: 0;}#sk-container-id-1 div.sk-serial {display: flex;flex-direction: column;align-items: center;background-color: white;padding-right: 0.2em;padding-left: 0.2em;position: relative;}#sk-container-id-1 div.sk-item {position: relative;z-index: 1;}#sk-container-id-1 div.sk-parallel {display: flex;align-items: stretch;justify-content: center;background-color: white;position: relative;}#sk-container-id-1 div.sk-item::before, #sk-container-id-1 div.sk-parallel-item::before {content: \"\";position: absolute;border-left: 1px solid gray;box-sizing: border-box;top: 0;bottom: 0;left: 50%;z-index: -1;}#sk-container-id-1 div.sk-parallel-item {display: flex;flex-direction: column;z-index: 1;position: relative;background-color: white;}#sk-container-id-1 div.sk-parallel-item:first-child::after {align-self: flex-end;width: 50%;}#sk-container-id-1 div.sk-parallel-item:last-child::after {align-self: flex-start;width: 50%;}#sk-container-id-1 div.sk-parallel-item:only-child::after {width: 0;}#sk-container-id-1 div.sk-dashed-wrapped {border: 1px dashed gray;margin: 0 0.4em 0.5em 0.4em;box-sizing: border-box;padding-bottom: 0.4em;background-color: white;}#sk-container-id-1 div.sk-label label {font-family: monospace;font-weight: bold;display: inline-block;line-height: 1.2em;}#sk-container-id-1 div.sk-label-container {text-align: center;}#sk-container-id-1 div.sk-container {/* jupyter's `normalize.less` sets `[hidden] { display: none; }` but bootstrap.min.css set `[hidden] { display: none !important; }` so we also need the `!important` here to be able to override the default hidden behavior on the sphinx rendered scikit-learn.org. See: https://github.com/scikit-learn/scikit-learn/issues/21755 */display: inline-block !important;position: relative;}#sk-container-id-1 div.sk-text-repr-fallback {display: none;}</style><div id=\"sk-container-id-1\" class=\"sk-top-container\"><div class=\"sk-text-repr-fallback\"><pre>HistGradientBoostingClassifier(random_state=42)</pre><b>In a Jupyter environment, please rerun this cell to show the HTML representation or trust the notebook. <br />On GitHub, the HTML representation is unable to render, please try loading this page with nbviewer.org.</b></div><div class=\"sk-container\" hidden><div class=\"sk-item\"><div class=\"sk-estimator sk-toggleable\"><input class=\"sk-toggleable__control sk-hidden--visually\" id=\"sk-estimator-id-1\" type=\"checkbox\" checked><label for=\"sk-estimator-id-1\" class=\"sk-toggleable__label sk-toggleable__label-arrow\">HistGradientBoostingClassifier</label><div class=\"sk-toggleable__content\"><pre>HistGradientBoostingClassifier(random_state=42)</pre></div></div></div></div></div>"
      ],
      "text/plain": [
       "HistGradientBoostingClassifier(random_state=42)"
      ]
     },
     "execution_count": 5,
     "metadata": {},
     "output_type": "execute_result"
    }
   ],
   "source": [
    "hist_gradient_boosting = HistGradientBoostingClassifier(random_state=42)\n",
    "\n",
    "# Fit the model\n",
    "hist_gradient_boosting.fit(X_train, y_train)"
   ]
  },
  {
   "cell_type": "code",
   "execution_count": 6,
   "metadata": {},
   "outputs": [
    {
     "name": "stdout",
     "output_type": "stream",
     "text": [
      "Accuracy using HistGradientBoostingClassifier: 85.14%\n"
     ]
    }
   ],
   "source": [
    "# Make predictions\n",
    "y_pred = hist_gradient_boosting.predict(X_test)\n",
    "\n",
    "# Evaluate the model\n",
    "accuracy = accuracy_score(y_test, y_pred)\n",
    "print(f\"Accuracy using HistGradientBoostingClassifier: {accuracy * 100:.2f}%\")"
   ]
  },
  {
   "cell_type": "code",
   "execution_count": 10,
   "metadata": {},
   "outputs": [
    {
     "name": "stdout",
     "output_type": "stream",
     "text": [
      "Feature Importance Ranking:\n",
      "       Feature  Importance\n",
      "28       _BMI5    0.003668\n",
      "25      _AGE_G    0.002109\n",
      "5     CHECKUP1    0.001559\n",
      "23    _RACEPR1    0.001421\n",
      "32    _INCOMG1    0.001421\n",
      "7     CVDINFR4    0.000917\n",
      "9      MARITAL    0.000596\n",
      "24        _SEX    0.000459\n",
      "19    _HLTHPLN    0.000321\n",
      "11     EMPLOY1    0.000321\n",
      "13    DIFFWALK    0.000092\n",
      "36    ALCDAY30    0.000046\n",
      "33    _SMOKER3    0.000046\n",
      "4     MEDCOST1    0.000046\n",
      "16    _METSTAT    0.000046\n",
      "1       _STATE    0.000000\n",
      "38  ALCCALCCAT    0.000000\n",
      "15     QSTLANG    0.000000\n",
      "29    _BMI5CAT   -0.000275\n",
      "27       WTKG3   -0.000321\n",
      "8     ADDEPEV3   -0.000459\n",
      "14    SDHSTRE1   -0.000459\n",
      "17    _PHYS14D   -0.000504\n",
      "30    _CHLDCNT   -0.000642\n",
      "6     SLEPTIM1   -0.000688\n",
      "18    _MENT14D   -0.000688\n",
      "31     _EDUCAG   -0.000688\n",
      "35    AVEDRNK3   -0.000779\n",
      "21      _MICHD   -0.000871\n",
      "2       FMONTH   -0.001146\n",
      "10    RENTHOM1   -0.001238\n",
      "12    PREGNANT   -0.001467\n",
      "20    _TOTINDA   -0.001513\n",
      "22    _ASTHMS1   -0.001696\n",
      "26        HTM4   -0.001696\n",
      "3      GENHLTH   -0.001742\n",
      "34     ALCDAY4   -0.001834\n",
      "37     ALCCALC   -0.001834\n",
      "0           ID   -0.003026\n",
      "\n",
      "Entire DataFrame:\n",
      "       Feature  Importance\n",
      "28       _BMI5    0.003668\n",
      "25      _AGE_G    0.002109\n",
      "5     CHECKUP1    0.001559\n",
      "23    _RACEPR1    0.001421\n",
      "32    _INCOMG1    0.001421\n",
      "7     CVDINFR4    0.000917\n",
      "9      MARITAL    0.000596\n",
      "24        _SEX    0.000459\n",
      "19    _HLTHPLN    0.000321\n",
      "11     EMPLOY1    0.000321\n",
      "13    DIFFWALK    0.000092\n",
      "36    ALCDAY30    0.000046\n",
      "33    _SMOKER3    0.000046\n",
      "4     MEDCOST1    0.000046\n",
      "16    _METSTAT    0.000046\n",
      "1       _STATE    0.000000\n",
      "38  ALCCALCCAT    0.000000\n",
      "15     QSTLANG    0.000000\n",
      "29    _BMI5CAT   -0.000275\n",
      "27       WTKG3   -0.000321\n",
      "8     ADDEPEV3   -0.000459\n",
      "14    SDHSTRE1   -0.000459\n",
      "17    _PHYS14D   -0.000504\n",
      "30    _CHLDCNT   -0.000642\n",
      "6     SLEPTIM1   -0.000688\n",
      "18    _MENT14D   -0.000688\n",
      "31     _EDUCAG   -0.000688\n",
      "35    AVEDRNK3   -0.000779\n",
      "21      _MICHD   -0.000871\n",
      "2       FMONTH   -0.001146\n",
      "10    RENTHOM1   -0.001238\n",
      "12    PREGNANT   -0.001467\n",
      "20    _TOTINDA   -0.001513\n",
      "22    _ASTHMS1   -0.001696\n",
      "26        HTM4   -0.001696\n",
      "3      GENHLTH   -0.001742\n",
      "34     ALCDAY4   -0.001834\n",
      "37     ALCCALC   -0.001834\n",
      "0           ID   -0.003026\n"
     ]
    }
   ],
   "source": [
    "from sklearn.inspection import permutation_importance\n",
    "\n",
    "# Fit the HistGradientBoostingClassifier model\n",
    "hist_gradient_boosting.fit(X_train, y_train)\n",
    "\n",
    "# Calculate permutation feature importance\n",
    "result = permutation_importance(hist_gradient_boosting, X_test, y_test, n_repeats=10, random_state=42)\n",
    "\n",
    "# Create a DataFrame to display feature importances\n",
    "importance = result.importances_mean\n",
    "feature_names = X.columns\n",
    "feature_importance_df = pd.DataFrame({'Feature': feature_names, 'Importance': importance})\n",
    "feature_importance_df = feature_importance_df.sort_values(by='Importance', ascending=False)\n",
    "\n",
    "# Display feature importances\n",
    "print(\"Feature Importance Ranking:\")\n",
    "print(feature_importance_df)\n",
    "\n",
    "# Alternatively, to print the entire DataFrame without truncation\n",
    "pd.set_option('display.max_rows', None)\n",
    "print(\"\\nEntire DataFrame:\")\n",
    "print(feature_importance_df)\n",
    "feature_importance_df.to_csv(\"importance_score.csv\")\n"
   ]
  }
 ],
 "metadata": {
  "kernelspec": {
   "display_name": "Python 3",
   "language": "python",
   "name": "python3"
  },
  "language_info": {
   "codemirror_mode": {
    "name": "ipython",
    "version": 3
   },
   "file_extension": ".py",
   "mimetype": "text/x-python",
   "name": "python",
   "nbconvert_exporter": "python",
   "pygments_lexer": "ipython3",
   "version": "3.11.6"
  }
 },
 "nbformat": 4,
 "nbformat_minor": 2
}
