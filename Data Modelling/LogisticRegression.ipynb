{
 "cells": [
  {
   "cell_type": "code",
   "execution_count": 7,
   "metadata": {},
   "outputs": [
    {
     "name": "stdout",
     "output_type": "stream",
     "text": [
      "Accuracy of the model: 0.8663101604278075\n",
      "                             importance\n",
      "GENHLTH_Fair                   0.957641\n",
      "MARITAL_Never Married          0.755422\n",
      "MEDCOST1_Yes                   0.667113\n",
      "CHECKUP1_Within past year      0.627869\n",
      "_AGE_G_45-54                   0.626160\n",
      "...                                 ...\n",
      "CHECKUP1_3-5 Years            -0.661948\n",
      "ALCCALCCAT_3-5 drinks a day   -0.679564\n",
      "_BMI5CAT_Overweight           -0.690769\n",
      "_PHYS14D_Zero days            -0.777696\n",
      "_INCOMG1_$35,000 - $50,000    -0.843288\n",
      "\n",
      "[84 rows x 1 columns]\n"
     ]
    }
   ],
   "source": [
    "import pandas as pd\n",
    "import numpy as np\n",
    "from sklearn.model_selection import train_test_split, GridSearchCV\n",
    "from sklearn.linear_model import LogisticRegression\n",
    "from sklearn.preprocessing import StandardScaler\n",
    "from sklearn.metrics import accuracy_score\n",
    " \n",
    "# Load your dataset from an Excel file\n",
    "df = pd.read_csv('Data2.csv')\n",
    " \n",
    "# Drop the 'SEQNO' column\n",
    "df = df.drop(columns=['SEQNO'])\n",
    " \n",
    "# Drop rows with NaN values (or use imputation)\n",
    "df = df.dropna()\n",
    " \n",
    "# Convert categorical variables to dummy variables\n",
    "df = pd.get_dummies(df, drop_first=True)\n",
    " \n",
    "# Splitting the dataset into training and testing sets\n",
    "X = df.drop('DIABETE4', axis=1)\n",
    "y = df['DIABETE4']\n",
    "X_train, X_test, y_train, y_test = train_test_split(X, y, test_size=0.2, random_state=42)\n",
    " \n",
    "# Feature scaling\n",
    "scaler = StandardScaler()\n",
    "X_train_scaled = scaler.fit_transform(X_train)\n",
    "X_test_scaled = scaler.transform(X_test)\n",
    " \n",
    "# Fit the Logistic Regression Model\n",
    "model = LogisticRegression(random_state=42, max_iter=10000)\n",
    "model.fit(X_train_scaled, y_train)\n",
    " \n",
    "# Making predictions on the test set\n",
    "y_pred = model.predict(X_test_scaled)\n",
    " \n",
    "# Calculating the accuracy\n",
    "accuracy = accuracy_score(y_test, y_pred)\n",
    "print(\"Accuracy of the model:\", accuracy)\n",
    " \n",
    "# Retrieve and display the feature importances\n",
    "feature_importance = pd.DataFrame(model.coef_[0], \n",
    "                                  index=X.columns, \n",
    "                                  columns=['importance']).sort_values('importance', ascending=False)\n",
    "print(feature_importance)\n",
    "feature_importance.to_csv(\"LR-B.csv\")"
   ]
  },
  {
   "cell_type": "code",
   "execution_count": null,
   "metadata": {},
   "outputs": [],
   "source": []
  }
 ],
 "metadata": {
  "kernelspec": {
   "display_name": "Python 3",
   "language": "python",
   "name": "python3"
  },
  "language_info": {
   "codemirror_mode": {
    "name": "ipython",
    "version": 3
   },
   "file_extension": ".py",
   "mimetype": "text/x-python",
   "name": "python",
   "nbconvert_exporter": "python",
   "pygments_lexer": "ipython3",
   "version": "3.11.6"
  }
 },
 "nbformat": 4,
 "nbformat_minor": 2
}
