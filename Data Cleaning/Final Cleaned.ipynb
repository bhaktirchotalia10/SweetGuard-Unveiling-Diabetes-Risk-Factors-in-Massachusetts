{
 "cells": [
  {
   "cell_type": "code",
   "execution_count": 52,
   "metadata": {},
   "outputs": [
    {
     "data": {
      "text/html": [
       "<div>\n",
       "<style scoped>\n",
       "    .dataframe tbody tr th:only-of-type {\n",
       "        vertical-align: middle;\n",
       "    }\n",
       "\n",
       "    .dataframe tbody tr th {\n",
       "        vertical-align: top;\n",
       "    }\n",
       "\n",
       "    .dataframe thead th {\n",
       "        text-align: right;\n",
       "    }\n",
       "</style>\n",
       "<table border=\"1\" class=\"dataframe\">\n",
       "  <thead>\n",
       "    <tr style=\"text-align: right;\">\n",
       "      <th></th>\n",
       "      <th>ID</th>\n",
       "      <th>_STATE</th>\n",
       "      <th>FMONTH</th>\n",
       "      <th>SEQNO</th>\n",
       "      <th>GENHLTH</th>\n",
       "      <th>PHYSHLTH</th>\n",
       "      <th>MENTHLTH</th>\n",
       "      <th>POORHLTH</th>\n",
       "      <th>MEDCOST1</th>\n",
       "      <th>CHECKUP1</th>\n",
       "      <th>...</th>\n",
       "      <th>_AGE_G</th>\n",
       "      <th>HTM4</th>\n",
       "      <th>WTKG3</th>\n",
       "      <th>_BMI5</th>\n",
       "      <th>_BMI5CAT</th>\n",
       "      <th>_CHLDCNT</th>\n",
       "      <th>_EDUCAG</th>\n",
       "      <th>_INCOMG1</th>\n",
       "      <th>_SMOKER3</th>\n",
       "      <th>DROCDY4_</th>\n",
       "    </tr>\n",
       "  </thead>\n",
       "  <tbody>\n",
       "    <tr>\n",
       "      <th>0</th>\n",
       "      <td>0</td>\n",
       "      <td>25</td>\n",
       "      <td>1</td>\n",
       "      <td>b'2022000229'</td>\n",
       "      <td>3</td>\n",
       "      <td>88</td>\n",
       "      <td>88</td>\n",
       "      <td>NaN</td>\n",
       "      <td>2</td>\n",
       "      <td>1</td>\n",
       "      <td>...</td>\n",
       "      <td>6</td>\n",
       "      <td>163.0</td>\n",
       "      <td>83</td>\n",
       "      <td>3124.0</td>\n",
       "      <td>4.0</td>\n",
       "      <td>1</td>\n",
       "      <td>4</td>\n",
       "      <td>7</td>\n",
       "      <td>4</td>\n",
       "      <td>5.400000e-79</td>\n",
       "    </tr>\n",
       "    <tr>\n",
       "      <th>1</th>\n",
       "      <td>1</td>\n",
       "      <td>25</td>\n",
       "      <td>1</td>\n",
       "      <td>b'2022000230'</td>\n",
       "      <td>2</td>\n",
       "      <td>88</td>\n",
       "      <td>88</td>\n",
       "      <td>NaN</td>\n",
       "      <td>2</td>\n",
       "      <td>1</td>\n",
       "      <td>...</td>\n",
       "      <td>6</td>\n",
       "      <td>168.0</td>\n",
       "      <td>91</td>\n",
       "      <td>3228.0</td>\n",
       "      <td>4.0</td>\n",
       "      <td>1</td>\n",
       "      <td>4</td>\n",
       "      <td>6</td>\n",
       "      <td>4</td>\n",
       "      <td>3.000000e+00</td>\n",
       "    </tr>\n",
       "    <tr>\n",
       "      <th>2</th>\n",
       "      <td>2</td>\n",
       "      <td>25</td>\n",
       "      <td>1</td>\n",
       "      <td>b'2022000231'</td>\n",
       "      <td>4</td>\n",
       "      <td>30</td>\n",
       "      <td>30</td>\n",
       "      <td>77.0</td>\n",
       "      <td>2</td>\n",
       "      <td>1</td>\n",
       "      <td>...</td>\n",
       "      <td>6</td>\n",
       "      <td>163.0</td>\n",
       "      <td>82</td>\n",
       "      <td>3090.0</td>\n",
       "      <td>4.0</td>\n",
       "      <td>1</td>\n",
       "      <td>2</td>\n",
       "      <td>9</td>\n",
       "      <td>1</td>\n",
       "      <td>5.400000e-79</td>\n",
       "    </tr>\n",
       "    <tr>\n",
       "      <th>3</th>\n",
       "      <td>3</td>\n",
       "      <td>25</td>\n",
       "      <td>1</td>\n",
       "      <td>b'2022000232'</td>\n",
       "      <td>3</td>\n",
       "      <td>88</td>\n",
       "      <td>88</td>\n",
       "      <td>NaN</td>\n",
       "      <td>2</td>\n",
       "      <td>1</td>\n",
       "      <td>...</td>\n",
       "      <td>6</td>\n",
       "      <td>160.0</td>\n",
       "      <td>0</td>\n",
       "      <td>NaN</td>\n",
       "      <td>NaN</td>\n",
       "      <td>1</td>\n",
       "      <td>4</td>\n",
       "      <td>2</td>\n",
       "      <td>4</td>\n",
       "      <td>1.300000e+01</td>\n",
       "    </tr>\n",
       "    <tr>\n",
       "      <th>4</th>\n",
       "      <td>4</td>\n",
       "      <td>25</td>\n",
       "      <td>1</td>\n",
       "      <td>b'2022000233'</td>\n",
       "      <td>2</td>\n",
       "      <td>88</td>\n",
       "      <td>88</td>\n",
       "      <td>NaN</td>\n",
       "      <td>2</td>\n",
       "      <td>1</td>\n",
       "      <td>...</td>\n",
       "      <td>3</td>\n",
       "      <td>173.0</td>\n",
       "      <td>54</td>\n",
       "      <td>1825.0</td>\n",
       "      <td>1.0</td>\n",
       "      <td>2</td>\n",
       "      <td>4</td>\n",
       "      <td>5</td>\n",
       "      <td>4</td>\n",
       "      <td>9.000000e+02</td>\n",
       "    </tr>\n",
       "  </tbody>\n",
       "</table>\n",
       "<p>5 rows × 52 columns</p>\n",
       "</div>"
      ],
      "text/plain": [
       "   ID  _STATE  FMONTH          SEQNO  GENHLTH  PHYSHLTH  MENTHLTH  POORHLTH  \\\n",
       "0   0      25       1  b'2022000229'        3        88        88       NaN   \n",
       "1   1      25       1  b'2022000230'        2        88        88       NaN   \n",
       "2   2      25       1  b'2022000231'        4        30        30      77.0   \n",
       "3   3      25       1  b'2022000232'        3        88        88       NaN   \n",
       "4   4      25       1  b'2022000233'        2        88        88       NaN   \n",
       "\n",
       "   MEDCOST1  CHECKUP1  ...  _AGE_G   HTM4  WTKG3   _BMI5  _BMI5CAT  _CHLDCNT  \\\n",
       "0         2         1  ...       6  163.0     83  3124.0       4.0         1   \n",
       "1         2         1  ...       6  168.0     91  3228.0       4.0         1   \n",
       "2         2         1  ...       6  163.0     82  3090.0       4.0         1   \n",
       "3         2         1  ...       6  160.0      0     NaN       NaN         1   \n",
       "4         2         1  ...       3  173.0     54  1825.0       1.0         2   \n",
       "\n",
       "   _EDUCAG  _INCOMG1  _SMOKER3      DROCDY4_  \n",
       "0        4         7         4  5.400000e-79  \n",
       "1        4         6         4  3.000000e+00  \n",
       "2        2         9         1  5.400000e-79  \n",
       "3        4         2         4  1.300000e+01  \n",
       "4        4         5         4  9.000000e+02  \n",
       "\n",
       "[5 rows x 52 columns]"
      ]
     },
     "execution_count": 52,
     "metadata": {},
     "output_type": "execute_result"
    }
   ],
   "source": [
    "import pandas as pd\n",
    "dataframe = pd.read_csv(r\"C:\\Users\\Himanshi\\Downloads\\df2-csv.csv\")\n",
    "dataframe.head()"
   ]
  },
  {
   "cell_type": "code",
   "execution_count": 53,
   "metadata": {},
   "outputs": [],
   "source": [
    "dataframe['CVDINFR4'].replace({7: 2, 9: 2}, inplace=True)\n",
    "dataframe['ADDEPEV3'].replace({7: 2, 9: 2}, inplace=True)\n",
    "dataframe['DIABETE4'].replace({7: 3, 9: 3}, inplace=True)\n",
    "dataframe['MEDCOST1'].replace({7: 2, 9: 2}, inplace=True)\n",
    "dataframe['DIFFWALK'].replace({7: 2, 9: 2}, inplace=True)"
   ]
  },
  {
   "cell_type": "code",
   "execution_count": 54,
   "metadata": {},
   "outputs": [
    {
     "name": "stdout",
     "output_type": "stream",
     "text": [
      "\n",
      "Unique values in CVDINFR4 after replacement: [2 1]\n",
      "\n",
      "Unique values in ADDEPEV3 after replacement: [2 1]\n",
      "\n",
      "Unique values in DIABETE4 after replacement: [1 3 4 2]\n"
     ]
    }
   ],
   "source": [
    "print(\"\\nUnique values in CVDINFR4 after replacement:\",dataframe['CVDINFR4'].unique())\n",
    "print(\"\\nUnique values in ADDEPEV3 after replacement:\",dataframe['ADDEPEV3'].unique())\n",
    "print(\"\\nUnique values in DIABETE4 after replacement:\",dataframe['DIABETE4'].unique())"
   ]
  },
  {
   "cell_type": "code",
   "execution_count": 55,
   "metadata": {},
   "outputs": [],
   "source": [
    "columns_to_drop = [\n",
    "    'PHYSHLTH', 'MENTHLTH', 'POORHLTH', 'HEIGHT3', \n",
    "    'USENOW3', 'ECIGNOW2', 'LCSFIRST', 'LCSLAST', 'LCSNUMCG',\n",
    "    'DRNK3GE5', 'MAXDRNKS', 'LASTSMK2', 'STOPSMK2', 'DROCDY4_'\n",
    "]\n",
    "\n",
    "# Dropping the specified columns\n",
    "dataframe.drop(columns=columns_to_drop, inplace=True)"
   ]
  },
  {
   "cell_type": "code",
   "execution_count": 56,
   "metadata": {},
   "outputs": [
    {
     "name": "stdout",
     "output_type": "stream",
     "text": [
      "<class 'pandas.core.frame.DataFrame'>\n",
      "RangeIndex: 11029 entries, 0 to 11028\n",
      "Data columns (total 38 columns):\n",
      " #   Column    Non-Null Count  Dtype  \n",
      "---  ------    --------------  -----  \n",
      " 0   ID        11029 non-null  int64  \n",
      " 1   _STATE    11029 non-null  int64  \n",
      " 2   FMONTH    11029 non-null  int64  \n",
      " 3   SEQNO     11029 non-null  object \n",
      " 4   GENHLTH   11029 non-null  int64  \n",
      " 5   MEDCOST1  11029 non-null  int64  \n",
      " 6   CHECKUP1  11029 non-null  int64  \n",
      " 7   SLEPTIM1  11029 non-null  int64  \n",
      " 8   CVDINFR4  11029 non-null  int64  \n",
      " 9   ADDEPEV3  11029 non-null  int64  \n",
      " 10  DIABETE4  11029 non-null  int64  \n",
      " 11  MARITAL   11029 non-null  int64  \n",
      " 12  RENTHOM1  11029 non-null  int64  \n",
      " 13  EMPLOY1   10974 non-null  float64\n",
      " 14  PREGNANT  2303 non-null   float64\n",
      " 15  DIFFWALK  10685 non-null  float64\n",
      " 16  AVEDRNK3  6134 non-null   float64\n",
      " 17  SDHSTRE1  9667 non-null   float64\n",
      " 18  QSTLANG   11029 non-null  int64  \n",
      " 19  _METSTAT  11029 non-null  int64  \n",
      " 20  _RFHLTH   11029 non-null  int64  \n",
      " 21  _PHYS14D  11029 non-null  int64  \n",
      " 22  _MENT14D  11029 non-null  int64  \n",
      " 23  _HLTHPLN  11029 non-null  int64  \n",
      " 24  _TOTINDA  11029 non-null  int64  \n",
      " 25  _MICHD    10918 non-null  float64\n",
      " 26  _ASTHMS1  11029 non-null  int64  \n",
      " 27  _RACEPR1  11029 non-null  int64  \n",
      " 28  _SEX      11029 non-null  int64  \n",
      " 29  _AGE_G    11029 non-null  int64  \n",
      " 30  HTM4      10333 non-null  float64\n",
      " 31  WTKG3     11029 non-null  int64  \n",
      " 32  _BMI5     9701 non-null   float64\n",
      " 33  _BMI5CAT  9701 non-null   float64\n",
      " 34  _CHLDCNT  11029 non-null  int64  \n",
      " 35  _EDUCAG   11029 non-null  int64  \n",
      " 36  _INCOMG1  11029 non-null  int64  \n",
      " 37  _SMOKER3  11029 non-null  int64  \n",
      "dtypes: float64(9), int64(28), object(1)\n",
      "memory usage: 3.2+ MB\n"
     ]
    }
   ],
   "source": [
    "dataframe.info()"
   ]
  },
  {
   "cell_type": "code",
   "execution_count": 57,
   "metadata": {},
   "outputs": [],
   "source": [
    "dataframe['EMPLOY1'].fillna(9, inplace=True)\n",
    "dataframe['PREGNANT'].fillna(0, inplace=True)\n",
    "dataframe['SDHSTRE1'].fillna(7, inplace=True)\n",
    "dataframe['_MICHD'].fillna(2, inplace=True)"
   ]
  },
  {
   "cell_type": "code",
   "execution_count": 58,
   "metadata": {},
   "outputs": [],
   "source": [
    "#df.info on a single column\n",
    "#dataframe['_MICHD'].info()"
   ]
  },
  {
   "cell_type": "code",
   "execution_count": 59,
   "metadata": {},
   "outputs": [],
   "source": [
    "mode_value = dataframe['SLEPTIM1'].mode().iloc[0] \n",
    "dataframe['SLEPTIM1'] = dataframe['SLEPTIM1'].replace([77, 99], mode_value)\n",
    "#print(mode_value)"
   ]
  },
  {
   "cell_type": "code",
   "execution_count": 60,
   "metadata": {},
   "outputs": [
    {
     "name": "stdout",
     "output_type": "stream",
     "text": [
      "<class 'pandas.core.series.Series'>\n",
      "RangeIndex: 11029 entries, 0 to 11028\n",
      "Series name: HTM4\n",
      "Non-Null Count  Dtype  \n",
      "--------------  -----  \n",
      "11029 non-null  float64\n",
      "dtypes: float64(1)\n",
      "memory usage: 86.3 KB\n",
      "<class 'pandas.core.series.Series'>\n",
      "RangeIndex: 11029 entries, 0 to 11028\n",
      "Series name: WTKG3\n",
      "Non-Null Count  Dtype\n",
      "--------------  -----\n",
      "11029 non-null  int64\n",
      "dtypes: int64(1)\n",
      "memory usage: 86.3 KB\n"
     ]
    }
   ],
   "source": [
    "average = dataframe[\"HTM4\"].mean()\n",
    "dataframe[\"HTM4\"].fillna(average, inplace=True)\n",
    "\n",
    "averagew = dataframe[\"WTKG3\"].mean()\n",
    "dataframe[\"WTKG3\"].fillna(averagew, inplace=True)\n",
    "\n",
    "dataframe['HTM4'].info()\n",
    "dataframe['WTKG3'].info()"
   ]
  },
  {
   "cell_type": "code",
   "execution_count": 61,
   "metadata": {},
   "outputs": [
    {
     "data": {
      "text/plain": [
       "0    1.63\n",
       "1    1.68\n",
       "2    1.63\n",
       "3    1.60\n",
       "4    1.73\n",
       "Name: HTM4, dtype: float64"
      ]
     },
     "execution_count": 61,
     "metadata": {},
     "output_type": "execute_result"
    }
   ],
   "source": [
    "dataframe['HTM4'] =  dataframe['HTM4']/100\n",
    "dataframe['HTM4'].head()"
   ]
  },
  {
   "cell_type": "code",
   "execution_count": 63,
   "metadata": {},
   "outputs": [],
   "source": [
    "dataframe.to_csv(\"ABCD.csv\")"
   ]
  },
  {
   "cell_type": "code",
   "execution_count": 64,
   "metadata": {},
   "outputs": [],
   "source": [
    "data = pd.read_csv(\"ABCD.csv\")"
   ]
  },
  {
   "cell_type": "code",
   "execution_count": 65,
   "metadata": {},
   "outputs": [
    {
     "data": {
      "text/html": [
       "<div>\n",
       "<style scoped>\n",
       "    .dataframe tbody tr th:only-of-type {\n",
       "        vertical-align: middle;\n",
       "    }\n",
       "\n",
       "    .dataframe tbody tr th {\n",
       "        vertical-align: top;\n",
       "    }\n",
       "\n",
       "    .dataframe thead th {\n",
       "        text-align: right;\n",
       "    }\n",
       "</style>\n",
       "<table border=\"1\" class=\"dataframe\">\n",
       "  <thead>\n",
       "    <tr style=\"text-align: right;\">\n",
       "      <th></th>\n",
       "      <th>Unnamed: 0</th>\n",
       "      <th>ID</th>\n",
       "      <th>_STATE</th>\n",
       "      <th>FMONTH</th>\n",
       "      <th>SEQNO</th>\n",
       "      <th>GENHLTH</th>\n",
       "      <th>MEDCOST1</th>\n",
       "      <th>CHECKUP1</th>\n",
       "      <th>SLEPTIM1</th>\n",
       "      <th>CVDINFR4</th>\n",
       "      <th>...</th>\n",
       "      <th>_SEX</th>\n",
       "      <th>_AGE_G</th>\n",
       "      <th>HTM4</th>\n",
       "      <th>WTKG3</th>\n",
       "      <th>_BMI5</th>\n",
       "      <th>_BMI5CAT</th>\n",
       "      <th>_CHLDCNT</th>\n",
       "      <th>_EDUCAG</th>\n",
       "      <th>_INCOMG1</th>\n",
       "      <th>_SMOKER3</th>\n",
       "    </tr>\n",
       "  </thead>\n",
       "  <tbody>\n",
       "    <tr>\n",
       "      <th>0</th>\n",
       "      <td>0</td>\n",
       "      <td>0</td>\n",
       "      <td>25</td>\n",
       "      <td>1</td>\n",
       "      <td>b'2022000229'</td>\n",
       "      <td>3</td>\n",
       "      <td>2</td>\n",
       "      <td>1</td>\n",
       "      <td>9</td>\n",
       "      <td>2</td>\n",
       "      <td>...</td>\n",
       "      <td>1</td>\n",
       "      <td>6</td>\n",
       "      <td>1.63</td>\n",
       "      <td>83</td>\n",
       "      <td>3124.0</td>\n",
       "      <td>4.0</td>\n",
       "      <td>1</td>\n",
       "      <td>4</td>\n",
       "      <td>7</td>\n",
       "      <td>4</td>\n",
       "    </tr>\n",
       "    <tr>\n",
       "      <th>1</th>\n",
       "      <td>1</td>\n",
       "      <td>1</td>\n",
       "      <td>25</td>\n",
       "      <td>1</td>\n",
       "      <td>b'2022000230'</td>\n",
       "      <td>2</td>\n",
       "      <td>2</td>\n",
       "      <td>1</td>\n",
       "      <td>8</td>\n",
       "      <td>2</td>\n",
       "      <td>...</td>\n",
       "      <td>2</td>\n",
       "      <td>6</td>\n",
       "      <td>1.68</td>\n",
       "      <td>91</td>\n",
       "      <td>3228.0</td>\n",
       "      <td>4.0</td>\n",
       "      <td>1</td>\n",
       "      <td>4</td>\n",
       "      <td>6</td>\n",
       "      <td>4</td>\n",
       "    </tr>\n",
       "    <tr>\n",
       "      <th>2</th>\n",
       "      <td>2</td>\n",
       "      <td>2</td>\n",
       "      <td>25</td>\n",
       "      <td>1</td>\n",
       "      <td>b'2022000231'</td>\n",
       "      <td>4</td>\n",
       "      <td>2</td>\n",
       "      <td>1</td>\n",
       "      <td>8</td>\n",
       "      <td>1</td>\n",
       "      <td>...</td>\n",
       "      <td>2</td>\n",
       "      <td>6</td>\n",
       "      <td>1.63</td>\n",
       "      <td>82</td>\n",
       "      <td>3090.0</td>\n",
       "      <td>4.0</td>\n",
       "      <td>1</td>\n",
       "      <td>2</td>\n",
       "      <td>9</td>\n",
       "      <td>1</td>\n",
       "    </tr>\n",
       "    <tr>\n",
       "      <th>3</th>\n",
       "      <td>3</td>\n",
       "      <td>3</td>\n",
       "      <td>25</td>\n",
       "      <td>1</td>\n",
       "      <td>b'2022000232'</td>\n",
       "      <td>3</td>\n",
       "      <td>2</td>\n",
       "      <td>1</td>\n",
       "      <td>7</td>\n",
       "      <td>1</td>\n",
       "      <td>...</td>\n",
       "      <td>2</td>\n",
       "      <td>6</td>\n",
       "      <td>1.60</td>\n",
       "      <td>0</td>\n",
       "      <td>NaN</td>\n",
       "      <td>NaN</td>\n",
       "      <td>1</td>\n",
       "      <td>4</td>\n",
       "      <td>2</td>\n",
       "      <td>4</td>\n",
       "    </tr>\n",
       "    <tr>\n",
       "      <th>4</th>\n",
       "      <td>4</td>\n",
       "      <td>4</td>\n",
       "      <td>25</td>\n",
       "      <td>1</td>\n",
       "      <td>b'2022000233'</td>\n",
       "      <td>2</td>\n",
       "      <td>2</td>\n",
       "      <td>1</td>\n",
       "      <td>6</td>\n",
       "      <td>2</td>\n",
       "      <td>...</td>\n",
       "      <td>2</td>\n",
       "      <td>3</td>\n",
       "      <td>1.73</td>\n",
       "      <td>54</td>\n",
       "      <td>1825.0</td>\n",
       "      <td>1.0</td>\n",
       "      <td>2</td>\n",
       "      <td>4</td>\n",
       "      <td>5</td>\n",
       "      <td>4</td>\n",
       "    </tr>\n",
       "  </tbody>\n",
       "</table>\n",
       "<p>5 rows × 39 columns</p>\n",
       "</div>"
      ],
      "text/plain": [
       "   Unnamed: 0  ID  _STATE  FMONTH          SEQNO  GENHLTH  MEDCOST1  CHECKUP1  \\\n",
       "0           0   0      25       1  b'2022000229'        3         2         1   \n",
       "1           1   1      25       1  b'2022000230'        2         2         1   \n",
       "2           2   2      25       1  b'2022000231'        4         2         1   \n",
       "3           3   3      25       1  b'2022000232'        3         2         1   \n",
       "4           4   4      25       1  b'2022000233'        2         2         1   \n",
       "\n",
       "   SLEPTIM1  CVDINFR4  ...  _SEX  _AGE_G  HTM4  WTKG3   _BMI5  _BMI5CAT  \\\n",
       "0         9         2  ...     1       6  1.63     83  3124.0       4.0   \n",
       "1         8         2  ...     2       6  1.68     91  3228.0       4.0   \n",
       "2         8         1  ...     2       6  1.63     82  3090.0       4.0   \n",
       "3         7         1  ...     2       6  1.60      0     NaN       NaN   \n",
       "4         6         2  ...     2       3  1.73     54  1825.0       1.0   \n",
       "\n",
       "   _CHLDCNT  _EDUCAG  _INCOMG1  _SMOKER3  \n",
       "0         1        4         7         4  \n",
       "1         1        4         6         4  \n",
       "2         1        2         9         1  \n",
       "3         1        4         2         4  \n",
       "4         2        4         5         4  \n",
       "\n",
       "[5 rows x 39 columns]"
      ]
     },
     "execution_count": 65,
     "metadata": {},
     "output_type": "execute_result"
    }
   ],
   "source": [
    "data.head()"
   ]
  },
  {
   "cell_type": "code",
   "execution_count": 66,
   "metadata": {},
   "outputs": [
    {
     "data": {
      "text/plain": [
       "0        1.630000\n",
       "1        1.680000\n",
       "2        1.630000\n",
       "3        1.600000\n",
       "4        1.730000\n",
       "           ...   \n",
       "11024    1.698003\n",
       "11025    1.650000\n",
       "11026    1.830000\n",
       "11027    1.680000\n",
       "11028    1.680000\n",
       "Name: HTM4, Length: 11029, dtype: float64"
      ]
     },
     "execution_count": 66,
     "metadata": {},
     "output_type": "execute_result"
    }
   ],
   "source": [
    "data['HTM4']"
   ]
  },
  {
   "cell_type": "code",
   "execution_count": 68,
   "metadata": {},
   "outputs": [
    {
     "name": "stdout",
     "output_type": "stream",
     "text": [
      "<class 'pandas.core.series.Series'>\n",
      "RangeIndex: 11029 entries, 0 to 11028\n",
      "Series name: _BMI5\n",
      "Non-Null Count  Dtype  \n",
      "--------------  -----  \n",
      "9701 non-null   float64\n",
      "dtypes: float64(1)\n",
      "memory usage: 86.3 KB\n"
     ]
    }
   ],
   "source": [
    "data['_BMI5'].info()"
   ]
  },
  {
   "cell_type": "code",
   "execution_count": 69,
   "metadata": {},
   "outputs": [
    {
     "name": "stdout",
     "output_type": "stream",
     "text": [
      "Number of unique values in 'SLEPTIM1': 21\n"
     ]
    }
   ],
   "source": [
    "unique_count = data['SLEPTIM1'].nunique()\n",
    "print(f\"Number of unique values in 'SLEPTIM1': {unique_count}\")"
   ]
  },
  {
   "cell_type": "code",
   "execution_count": 71,
   "metadata": {},
   "outputs": [
    {
     "name": "stdout",
     "output_type": "stream",
     "text": [
      "\n",
      "Value counts in 'SLEPTIM1' (ascending order):\n",
      "1       32\n",
      "2       40\n",
      "3       74\n",
      "4      296\n",
      "5      712\n",
      "6     2314\n",
      "7     3712\n",
      "8     3040\n",
      "9      462\n",
      "10     242\n",
      "11      26\n",
      "12      51\n",
      "13       3\n",
      "14       5\n",
      "15       3\n",
      "16       3\n",
      "18       2\n",
      "19       1\n",
      "20       4\n",
      "22       2\n",
      "24       5\n",
      "Name: SLEPTIM1, dtype: int64\n"
     ]
    }
   ],
   "source": [
    "value_counts = data['SLEPTIM1'].value_counts().sort_index()\n",
    "print(\"\\nValue counts in 'SLEPTIM1' (ascending order):\")\n",
    "print(value_counts)"
   ]
  },
  {
   "cell_type": "code",
   "execution_count": null,
   "metadata": {
    "scrolled": true
   },
   "outputs": [],
   "source": [
    "columns_to_analyze = ['SLEPTIM1', 'MARITAL', 'RENTHOM1','EMPLOY1','_RACEPR1']\n",
    "\n",
    "# Loop through the columns and print value counts in ascending order\n",
    "for column in columns_to_analyze:\n",
    "    value_counts = data[column].value_counts().sort_index()\n",
    "    print(f\"\\nValue counts in '{column}' (ascending order):\")\n",
    "    print(value_counts)"
   ]
  },
  {
   "cell_type": "code",
   "execution_count": 72,
   "metadata": {},
   "outputs": [
    {
     "name": "stdout",
     "output_type": "stream",
     "text": [
      "\n",
      "DataFrame after deletion:\n"
     ]
    }
   ],
   "source": [
    "condition = (data['SLEPTIM1'].isin([1, 2]) | (data['SLEPTIM1'].between(13, 24)))\n",
    "\n",
    "# Delete rows based on the condition\n",
    "data = data[~condition]\n",
    "\n",
    "# Display the DataFrame after deletion\n",
    "print(\"\\nDataFrame after deletion:\")\n"
   ]
  },
  {
   "cell_type": "code",
   "execution_count": 73,
   "metadata": {},
   "outputs": [
    {
     "name": "stdout",
     "output_type": "stream",
     "text": [
      "\n",
      "Value counts in 'SLEPTIM1' (ascending order):\n",
      "3       74\n",
      "4      296\n",
      "5      712\n",
      "6     2314\n",
      "7     3712\n",
      "8     3040\n",
      "9      462\n",
      "10     242\n",
      "11      26\n",
      "12      51\n",
      "Name: SLEPTIM1, dtype: int64\n"
     ]
    }
   ],
   "source": [
    "value_counts = data['SLEPTIM1'].value_counts().sort_index()\n",
    "print(\"\\nValue counts in 'SLEPTIM1' (ascending order):\")\n",
    "print(value_counts)"
   ]
  },
  {
   "cell_type": "code",
   "execution_count": 74,
   "metadata": {
    "scrolled": true
   },
   "outputs": [],
   "source": [
    "dataframe.to_csv(\"ABCD.csv\")"
   ]
  },
  {
   "cell_type": "code",
   "execution_count": null,
   "metadata": {},
   "outputs": [],
   "source": []
  }
 ],
 "metadata": {
  "kernelspec": {
   "display_name": "Python 3 (ipykernel)",
   "language": "python",
   "name": "python3"
  },
  "language_info": {
   "codemirror_mode": {
    "name": "ipython",
    "version": 3
   },
   "file_extension": ".py",
   "mimetype": "text/x-python",
   "name": "python",
   "nbconvert_exporter": "python",
   "pygments_lexer": "ipython3",
   "version": "3.11.4"
  }
 },
 "nbformat": 4,
 "nbformat_minor": 2
}
